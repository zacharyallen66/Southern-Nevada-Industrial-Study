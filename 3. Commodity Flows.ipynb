{
 "cells": [
  {
   "cell_type": "code",
   "execution_count": null,
   "metadata": {},
   "outputs": [],
   "source": [
    "import pandas as pd\n",
    "import matplotlib.ticker as ticker\n",
    "import matplotlib.pyplot as plt\n",
    "import numpy as np\n",
    "\n",
    "import matplotlib.ticker as mtick\n",
    "from adjustText import adjust_text\n",
    "\n",
    "# For CSV:\n",
    "clark_county_ts2021 = pd.read_csv(\"H:/My Drive/7. SNV Industry Study/SNV_ArcGIS/IHS Files/Clark_County_TS2021.csv\", dtype={'STCC4': str})\n",
    "\n",
    "bridges_excel = pd.ExcelFile(\"H:/My Drive/7. SNV Industry Study/SNV_ArcGIS/IHS Files/bridges.xlsx\")\n",
    "US_2020_CSA = pd.read_csv(\"H:/My Drive/7. SNV Industry Study/SNV_ArcGIS/IHS Files/2020_US_CSA.csv\")\n",
    "# For Excel:\n",
    "naics_stcc = pd.read_excel(\"H:/My Drive/7. SNV Industry Study/SNV_ArcGIS/IHS Files/STCC_NAICS.xlsx\", dtype={'STCC4': str})\n",
    "\n",
    "\n",
    "# Load necessary sheets from the Excel file\n",
    "stcc = bridges_excel.parse(\"STCC\")\n",
    "regions = bridges_excel.parse(\"Regions\")\n",
    "modes = bridges_excel.parse(\"Modes\")\n",
    "county_region = bridges_excel.parse(\"County to Region\")\n",
    "naics_stcc = naics.parse(\"stcc_naics_bridge\")\n",
    "# Checking for duplicates\n",
    "clark_county_ts2021 = clark_county_ts2021.drop_duplicates()\n",
    "US_2020_CSA = US_2020_CSA.drop_duplicates()\n",
    "\n",
    "\n",
    "\n",
    "# Define origin_regions and destination_regions separately\n",
    "origin_regions = regions.rename(columns={\"Region\": \"Origin Region\", \"Region Name\": \"Origin Region Name\"})\n",
    "destination_regions = regions.rename(columns={\"Region\": \"Destination Region\", \"Region Name\": \"Destination Region Name\"})\n",
    "# Ensure 'STCC4' column in both dataframes is of type string\n",
    "# For example, replace NaN with a known string\n",
    "clark_county_ts2021['STCC4'] = clark_county_ts2021['STCC4'].astype(str)\n",
    "naics_stcc['STCC4'] = naics_stcc['STCC4'].astype(str)\n",
    "stcc['STCC4'] = stcc['STCC4'].astype(str)\n",
    "\n",
    "# Merge origin_regions and destination_regions into clark_county_ts2021\n",
    "clark_county_ts2021 = pd.merge(clark_county_ts2021, origin_regions, on='Origin Region', how='left')\n",
    "clark_county_ts2021 = pd.merge(clark_county_ts2021, destination_regions, on='Destination Region', how='left')\n",
    "# Merge the summary by mode with the modes table\n",
    "clark_county_ts2021 = pd.merge(clark_county_ts2021, modes, how='left', on='Mode')\n",
    "clark_county_ts2021 = pd.merge(clark_county_ts2021, stcc, how='left', on='STCC')\n",
    "\n",
    "\n",
    "# Rename the rest of the columns\n",
    "clark_county_ts2021.rename(columns={\n",
    "    'State_x': 'Origin State', \n",
    "    'BEA_x': 'Origin BEA', \n",
    "    'BEA Name_x': 'Origin BEA Name', \n",
    "    'Country_x': 'Origin Country', \n",
    "    'State_y': 'Destination State', \n",
    "    'BEA_y': 'Destination BEA', \n",
    "    'BEA Name_y': 'Destination BEA Name', \n",
    "    'Country_y': 'Destination Country'}, inplace=True)\n",
    "\n",
    "# Define your formatting function\n",
    "format_func = lambda x: '{:,.2f}'.format(x)\n",
    "\n",
    "# Apply the formatting function to the specified columns\n",
    "clark_county_ts2021['Tons'] = clark_county_ts2021['Tons'].apply(format_func)\n",
    "clark_county_ts2021['Units'] = clark_county_ts2021['Units'].apply(format_func)\n",
    "clark_county_ts2021['Value'] = clark_county_ts2021['Value'].apply(format_func)\n",
    "clark_county_ts2021['Average Miles'] = clark_county_ts2021['Average Miles'].apply(format_func)\n",
    "\n",
    "# Print DataFrame to check\n",
    "#print(clark_county_ts2021)\n",
    "\n"
   ]
  },
  {
   "cell_type": "code",
   "execution_count": null,
   "metadata": {},
   "outputs": [],
   "source": [
    "clark_county_ts2021"
   ]
  },
  {
   "cell_type": "code",
   "execution_count": null,
   "metadata": {},
   "outputs": [],
   "source": [
    "clark_county_ts2021['STCC4'] = clark_county_ts2021['STCC4'].fillna('0').astype(str)\n",
    "clark_county_ts2021['STCC4'] = clark_county_ts2021['STCC4'].astype(str)\n",
    "\n",
    "clark_county_ts2021"
   ]
  },
  {
   "cell_type": "code",
   "execution_count": null,
   "metadata": {},
   "outputs": [],
   "source": [
    "naics_stcc['STCC4'] = naics_stcc['STCC4'].astype(str)\n",
    "\n",
    "naics_stcc"
   ]
  },
  {
   "cell_type": "code",
   "execution_count": null,
   "metadata": {},
   "outputs": [],
   "source": [
    "# Now, try to merge\n",
    "clark_county_ts2021 = pd.merge(clark_county_ts2021, naics_stcc, how='left', on='STCC4')\n",
    "clark_county_ts2021"
   ]
  },
  {
   "cell_type": "code",
   "execution_count": null,
   "metadata": {},
   "outputs": [],
   "source": [
    "# Outbound: Origin is Clark County\n",
    "clark_county_outbound = clark_county_ts2021[\n",
    "    (clark_county_ts2021['Origin Region Name'] == \"Clark County, NV\") & \n",
    "    (clark_county_ts2021['Destination Region Name'] != \"Clark County, NV\")]\n",
    "\n",
    "# Inbound: Destination is Clark County\n",
    "clark_county_inbound = clark_county_ts2021[\n",
    "    (clark_county_ts2021['Destination Region Name'] == \"Clark County, NV\") & \n",
    "    (clark_county_ts2021['Origin Region Name'] != \"Clark County, NV\")]\n",
    "\n",
    "# Through: Clark County is neither origin nor destination\n",
    "clark_county_through = clark_county_ts2021[\n",
    "    (clark_county_ts2021['Origin Region Name'] != \"Clark County, NV\") & \n",
    "    (clark_county_ts2021['Destination Region Name'] != \"Clark County, NV\")]\n",
    "\n",
    "# Intra: Both origin and destination is Clark County\n",
    "clark_county_intra = clark_county_ts2021[\n",
    "    (clark_county_ts2021['Origin Region Name'] == \"Clark County, NV\") & \n",
    "    (clark_county_ts2021['Destination Region Name'] == \"Clark County, NV\")]"
   ]
  },
  {
   "cell_type": "code",
   "execution_count": null,
   "metadata": {},
   "outputs": [],
   "source": [
    "# Group by Year and Mode Name for each filter and calculate the sum of Values and Tons\n",
    "outbound_summary = clark_county_outbound.groupby(['Year', 'Name'])[['Value', 'Tons']].sum().reset_index()\n",
    "inbound_summary = clark_county_inbound.groupby(['Year', 'Name'])[['Value', 'Tons']].sum().reset_index()\n",
    "through_summary = clark_county_through.groupby(['Year', 'Name'])[['Value', 'Tons']].sum().reset_index()\n",
    "intra_summary = clark_county_intra.groupby(['Year', 'Name'])[['Value', 'Tons']].sum().reset_index()\n",
    "\n",
    "# Rename the Value and Tons columns for each filter\n",
    "outbound_summary.rename(columns={'Value': 'OB_Value', 'Tons': 'OB_Tons'}, inplace=True)\n",
    "inbound_summary.rename(columns={'Value': 'IB_Value', 'Tons': 'IB_Tons'}, inplace=True)\n",
    "through_summary.rename(columns={'Value': 'Thr_Value', 'Tons': 'Thr_Tons'}, inplace=True)\n",
    "intra_summary.rename(columns={'Value': 'Intr_Value', 'Tons': 'Intr_Tons'}, inplace=True)\n",
    "\n",
    "# Merge all the DataFrames on Year and Name\n",
    "CC_Modes_Summary = pd.merge(outbound_summary, inbound_summary, on=['Year', 'Name'], how='outer')\n",
    "CC_Modes_Summary = pd.merge(CC_Modes_Summary, through_summary, on=['Year', 'Name'], how='outer')\n",
    "CC_Modes_Summary = pd.merge(CC_Modes_Summary, intra_summary, on=['Year', 'Name'], how='outer')\n",
    "\n",
    "# Print the final DataFrame\n",
    "print(CC_Commodity_Summary)\n"
   ]
  },
  {
   "cell_type": "code",
   "execution_count": null,
   "metadata": {},
   "outputs": [],
   "source": [
    "print(clark_county_ts2021.columns)\n",
    "print(stcc.columns)\n",
    "print(naics_stcc.columns)\n",
    "print(modes.columns)"
   ]
  },
  {
   "cell_type": "code",
   "execution_count": null,
   "metadata": {},
   "outputs": [],
   "source": [
    "import pandas as pd\n",
    "import matplotlib.ticker as ticker\n",
    "import matplotlib.pyplot as plt\n",
    "import numpy as np\n",
    "import matplotlib.ticker as mtick\n",
    "from adjustText import adjust_text\n",
    "\n",
    "# Load data:\n",
    "clark_county_ts2021 = pd.read_csv(\"H:/My Drive/7. SNV Industry Study/SNV_ArcGIS/IHS Files/Clark_County_TS2021.csv\")\n",
    "bridges_excel = pd.ExcelFile(\"H:/My Drive/7. SNV Industry Study/SNV_ArcGIS/IHS Files/bridges.xlsx\")\n",
    "\n",
    "# Load necessary sheets from the Excel file\n",
    "stcc = bridges_excel.parse(\"STCC\")\n",
    "modes = bridges_excel.parse(\"Modes\")\n",
    "\n",
    "naics_stcc = pd.read_excel(\"H:/My Drive/7. SNV Industry Study/SNV_ArcGIS/IHS Files/STCC_NAICS.xlsx\", dtype={'STCC4': str})\n",
    "\n",
    "# Checking for duplicates\n",
    "clark_county_ts2021 = clark_county_ts2021.drop_duplicates()\n",
    "\n",
    "# Merge stcc and naics_stcc using STCC4\n",
    "stcc = pd.merge(stcc, naics_stcc, how='left', on='STCC4')\n",
    "\n",
    "# Merge stcc (which now includes naics_stcc data) into clark_county_ts2021 using STCC\n",
    "clark_county_ts2021 = pd.merge(clark_county_ts2021, stcc, how='left', on='STCC')\n",
    "\n",
    "# Merge modes into clark_county_ts2021 using Mode\n",
    "clark_county_ts2021 = pd.merge(clark_county_ts2021, modes, how='left', on='Mode')\n",
    "\n",
    "# Print DataFrame to check\n",
    "print(clark_county_ts2021)\n"
   ]
  },
  {
   "cell_type": "code",
   "execution_count": null,
   "metadata": {},
   "outputs": [],
   "source": []
  }
 ],
 "metadata": {
  "kernelspec": {
   "display_name": "Python 3",
   "language": "python",
   "name": "python3"
  },
  "language_info": {
   "codemirror_mode": {
    "name": "ipython",
    "version": 3
   },
   "file_extension": ".py",
   "mimetype": "text/x-python",
   "name": "python",
   "nbconvert_exporter": "python",
   "pygments_lexer": "ipython3",
   "version": "3.8.5"
  }
 },
 "nbformat": 4,
 "nbformat_minor": 4
}
